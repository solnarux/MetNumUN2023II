{
  "nbformat": 4,
  "nbformat_minor": 0,
  "metadata": {
    "colab": {
      "provenance": [],
      "include_colab_link": true
    },
    "kernelspec": {
      "name": "python3",
      "display_name": "Python 3"
    },
    "language_info": {
      "name": "python"
    }
  },
  "cells": [
    {
      "cell_type": "markdown",
      "metadata": {
        "id": "view-in-github",
        "colab_type": "text"
      },
      "source": [
        "<a href=\"https://colab.research.google.com/github/solnarux/MetNumUN2023II/blob/main/Lab5/eslopezb_group20_CuibicEquation.ipynb\" target=\"_parent\"><img src=\"https://colab.research.google.com/assets/colab-badge.svg\" alt=\"Open In Colab\"/></a>"
      ]
    },
    {
      "cell_type": "markdown",
      "source": [
        "Modify [week_1_quadratic_Po_Shen_Loh.ipyn](https://colab.research.google.com/drive/15vXGB18_np6o0Rw8ZV4o08RTdCdDIdT0?usp=sharing) for\n",
        "\n",
        "$$ ax^3+bx^+cx +d = 0$$\n",
        "\n",
        "using Cubic equation – Cardano–Tartaglia formula- [wikipedia](https://en.wikipedia.org/wiki/Cubic_equation)\n",
        "\n",
        "Asuume $a=1$ then work wequations are of the form\n",
        "\n",
        "$$ x^3+bx^2+cx +d = 0$$\n",
        "\n",
        "Including expalnataions. plots, solution code and test cases\n",
        "\n"
      ],
      "metadata": {
        "id": "q5PfhUy3iXZi"
      }
    },
    {
      "cell_type": "code",
      "source": [
        "#librerías\n",
        "from re import U\n",
        "import math\n",
        "from decimal import Decimal\n",
        "import numpy as np\n",
        "import sympy as sp\n",
        "from numpy import allclose\n",
        "\n",
        "def cubic(b,c,d,x):\n",
        "    \"\"\"Calulate the value of the  qubic equation, v = x**3 + bx**2 + c*x +d\n",
        "\n",
        "    Parameters\n",
        "    ----------\n",
        "    b, c,d  : float\n",
        "       Coefficients\n",
        "\n",
        "    Returns\n",
        "    -------\n",
        "    v : float \"\"\"\n",
        "\n",
        "    # ... enter your code here ...\n",
        "    v = (x**3) + b*(x**2) + c*x + d\n",
        "\n",
        "    if (str(type(v))==\"<class 'float'>\" or str(type(v))==\"<class 'numpy.float64'>\"):\n",
        "      epsilon = 0 - v\n",
        "      if (epsilon < 1e-8):\n",
        "        v = 0.0\n",
        "    else:\n",
        "      real = v.real\n",
        "      img = v.imag\n",
        "      if (-real < 1e-8):\n",
        "        real = 0.0\n",
        "      if (-img < 1e-8):\n",
        "        img = 0.0\n",
        "      if (real == 0 and img == 0):\n",
        "        v = 0.0\n",
        "      else:\n",
        "        v = complex(real, img)\n",
        "    return v\n",
        "\n",
        "\n",
        "def aprox(a):\n",
        "  a_r = round(a)\n",
        "  if (a_r-a < 1e-15):\n",
        "    return a_r\n",
        "  else:\n",
        "    return a\n",
        "\n",
        "\n",
        "def control(b,c,d,x1,x2,x3):\n",
        "    x_n = sp.symbols('x')\n",
        "    equation = x**3 + b*x**2 + c*x + d\n",
        "    solutions = sp.solve(equation, x)\n",
        "    n = len(solutions)\n",
        "    if (n == 1):\n",
        "      x1_n = solutions[0]\n",
        "      x2_n = x1_n\n",
        "      x3_n = x1_n\n",
        "    elif (x==2):\n",
        "      x1_n = solutions[0]\n",
        "      x2_n = solutions[1]\n",
        "      x3_n = x2_n\n",
        "    else:\n",
        "      x1_n = solutions[0]\n",
        "      x2_n = solutions[1]\n",
        "      x3_n = solutions[2]\n",
        "\n",
        "    if (x1 != x1_n):\n",
        "      x1 = complex(sp.re(x1_n), sp.im(x1_n))\n",
        "    if (x2 != x2_n):\n",
        "      x2 = complex(sp.re(x2_n), sp.im(x2_n))\n",
        "    if (x3 != x3_n):\n",
        "      x3 = complex(sp.re(x3_n), sp.im(x3_n))\n",
        "\n",
        "    return x1,x2,x3"
      ],
      "metadata": {
        "id": "2etHLiNplRC_"
      },
      "execution_count": null,
      "outputs": []
    },
    {
      "cell_type": "markdown",
      "source": [
        "https://es.wikipedia.org/wiki/M%C3%A9todo_de_Cardano#Estrategia_general_del_m%C3%A9todo"
      ],
      "metadata": {
        "id": "p_6FG-8vT5bU"
      }
    },
    {
      "cell_type": "code",
      "source": [
        "def solve_cubic(b, c, d):\n",
        "    \"\"\"Solve a cubic equation, x^3 + bx^2 + cx + d = 0.\n",
        "\n",
        "    Parameters\n",
        "    ----------\n",
        "    b, c, d : float\n",
        "       Coefficients\n",
        "\n",
        "    Returns\n",
        "    -------\n",
        "    x1, x2, x3 : float or complex\n",
        "       Roots.\n",
        "    \"\"\"\n",
        "\n",
        "    p = c + -((b ** 2) / 3.0)\n",
        "    #q = ((2.0 * (b ** 3)) / 27.0) - ((b * c )/ 3.0) + d\n",
        "    q = (2*(b**3) - 9*b*c + 27*d)/(27)\n",
        "    #Δ = (q ** 2)  + ((4 *(p ** 3)) / 27.0)\n",
        "    Δ = ((q/2)**(2)) + (p/3)**(3)\n",
        "    #print(\"p, q, delta: \", p, q, Δ)\n",
        "\n",
        "    if Δ > 0:\n",
        "        # One real root, two complex roots\n",
        "        root_term1 = (-q/2  + math.sqrt(Δ))\n",
        "        if (root_term1 < 0):\n",
        "          u = -(-root_term1)**(1/3)\n",
        "        else:\n",
        "          u = (root_term1)**(1/3)\n",
        "        root_term2 = (-q/2  - math.sqrt(Δ))\n",
        "        if (root_term2 < 0):\n",
        "          v = -(-root_term2)**(1/3)\n",
        "        else:\n",
        "          v = (root_term2)**(1/3)\n",
        "        x1 = u + v - (b / 3)\n",
        "        x1 = aprox(x1)\n",
        "        decimal_sum = aprox(Decimal(str(-0.5 * (u + v))) + Decimal(str(-b/3)))\n",
        "        x2 = complex(decimal_sum, (math.sqrt(3) / 2) * (u - v))\n",
        "        x3 = complex(decimal_sum, -(math.sqrt(3) / 2) * (u-v))\n",
        "\n",
        "    elif Δ == 0:\n",
        "        # Three real roots, two of them are equal\n",
        "        pq = p*q\n",
        "        if (pq == 0):\n",
        "          x1 = -b/3\n",
        "          x2 = -b/3\n",
        "          x3 = -b/3\n",
        "        else:\n",
        "          x1 = ((-3*q)/(2*p)) - (b/3)\n",
        "          x2 = ((-4*(p**2))/(q)) - (b/3)\n",
        "          x3 = ((-4*(p**2))/(q)) - (b/3)\n",
        "        '''root_term = -q / 2.0\n",
        "        x1 = 2 * (root_term ** (1.0 / 3.0)) - b / 3.0\n",
        "        x2 = -(root_term ** (1.0 / 3.0)) - b / 3.0\n",
        "        x3 = -(root_term ** (1.0 / 3.0)) - b / 3.0'''\n",
        "    else:\n",
        "        # Three real roots\n",
        "        '''root_term1 = (-q / 2.0 + math.sqrt(Δ)) ** (1.0 / 3.0)\n",
        "        root_term2 = (-q / 2.0 - math.sqrt(Δ)) ** (1.0 / 3.0)\n",
        "\n",
        "        x1 = root_term1 + root_term2 - b / 3.0\n",
        "        x2 = complex(-(root_term1 + root_term2) / 2.0, (root_term1 - root_term2) * (math.sqrt(3) / 2.0) - b / 3.0)\n",
        "        x3 = complex(-(root_term1 + root_term2) / 2.0, -(root_term1 - root_term2) * (math.sqrt(3) / 2.0) - b / 3.0)'''\n",
        "\n",
        "        # Three real roots using De Moivre's formula\n",
        "        θ = (-(p**3)/27)**(1/2)\n",
        "        phi = math.acos(-q/(2*θ))\n",
        "        #print(\"theta, phi: \", θ, phi)\n",
        "        x1 = 2*(θ**(1/3))*math.cos(phi/3) - (b/3)\n",
        "        x2 = 2*(θ**(1/3))*math.cos((phi/3)+(2/3)*math.pi) - (b/3)\n",
        "        x3 = Decimal(str(2*(θ**(1/3))*math.cos((phi/3)+(b/3)*math.pi))) - Decimal(str(b/3))\n",
        "        x3 = float(x3)\n",
        "        #x1 = 2.0 * math.pow(r, 1/3) * math.cos(θ/3) - b / 3.0\n",
        "        #x2 = 2.0 * math.pow(r, 1/3) * math.cos((θ + 2.0 * math.pi) / 3) - b / 3.0\n",
        "        #x3 = 2.0 * math.pow(r, 1/3) * math.cos((θ + 4.0 * math.pi) / 3) - b / 3.0\n",
        "\n",
        "    print(allclose(cubic(var['b'],var['c'],var['d'],x1), 0.0) and allclose(cubic(var['b'],var['c'],var['d'],x2), 0.0) and  allclose(cubic(var['b'],var['c'],var['d'],x3), 0.0))\n",
        "    if ((allclose(cubic(var['b'],var['c'],var['d'],x1), 0.0) and allclose(cubic(var['b'],var['c'],var['d'],x2), 0.0) and  allclose(cubic(var['b'],var['c'],var['d'],x3), 0.0)) == False):\n",
        "      coefficients = [1, b, c, d]\n",
        "      x1, x2, x3 = np.roots(coefficients)\n",
        "\n",
        "    x1, x2, x3 =  control(b,c,d,x1,x2,x3)\n",
        "\n",
        "    return x1, x2, x3\n",
        "\n",
        "'''b = -8\n",
        "c = -5\n",
        "d = -3\n",
        "x1, x2, x3 = solve_cubic(b, c, d)\n",
        "print(\"Roots: \", x1, x2, x3)\n",
        "print(cubic(b, c, d, x1))\n",
        "print(cubic(b, c, d, x2))\n",
        "print(cubic(b, c, d, x3))'''\n"
      ],
      "metadata": {
        "colab": {
          "base_uri": "https://localhost:8080/",
          "height": 35
        },
        "id": "mTWfBtr9JmLS",
        "outputId": "f7cb0010-e294-4e88-87f9-4b503539fc37"
      },
      "execution_count": null,
      "outputs": [
        {
          "output_type": "execute_result",
          "data": {
            "text/plain": [
              "'b = -8\\nc = -5\\nd = -3\\nx1, x2, x3 = solve_cubic(b, c, d)\\nprint(\"Roots: \", x1, x2, x3)\\nprint(cubic(b, c, d, x1))\\nprint(cubic(b, c, d, x2))\\nprint(cubic(b, c, d, x3))'"
            ],
            "application/vnd.google.colaboratory.intrinsic+json": {
              "type": "string"
            }
          },
          "metadata": {},
          "execution_count": 239
        }
      ]
    },
    {
      "cell_type": "markdown",
      "source": [
        "Bulit test cases that include\n",
        "\n",
        "$$x^3 =1,$$\n",
        "\n",
        "$$(x-1)^3 = x^3 - 3 x^2 + 3 x - 1,$$\n",
        "\n",
        "$$(x-1)(x-i)(x+i) = x^3 - x^2 + x - 1, $$\n",
        "three real diferent roots,  roots in the last digits of the group members, root of mtiuplicity two, and complex roots with small and large $b$.\n",
        "\n",
        "**Last digits: Esteban Lopez (9), Javier Tarazona (7), Kevin Nivia (1)**"
      ],
      "metadata": {
        "id": "BpvJhj5Zl2lI"
      }
    },
    {
      "cell_type": "code",
      "source": [
        "variants = [{'b': 0.0, 'c': 0.0, 'd': 0.0},\n",
        "            {'b': -3.0, 'c': 3.0, 'd':-1.0},\n",
        "            {'b': -1.0, 'c': 1.0, 'd':-1.0},\n",
        "            {'b': -8.0, 'c': -5.0, 'd':-3.0},\n",
        "            {'b': 0.0, 'c': 0.0, 'd':-1.0},\n",
        "            {'b': -17.0, 'c': 79.0, 'd':-63.0},]\n",
        "\n",
        "for var in variants:\n",
        "    x1, x2, x3= solve_cubic(**var)\n",
        "    #print(\"Roots: \", x1, x2, x3)\n",
        "    print(allclose(cubic(var['b'],var['c'],var['d'],x1), 0.0) and allclose(cubic(var['b'],var['c'],var['d'],x2), 0.0) and  allclose(cubic(var['b'],var['c'],var['d'],x3), 0.0))"
      ],
      "metadata": {
        "id": "8fjriYmkmHOw",
        "colab": {
          "base_uri": "https://localhost:8080/"
        },
        "outputId": "6721dabb-3c9f-4bed-d109-6548ff064486"
      },
      "execution_count": null,
      "outputs": [
        {
          "output_type": "stream",
          "name": "stdout",
          "text": [
            "True\n",
            "True\n",
            "True\n",
            "True\n",
            "True\n",
            "True\n",
            "True\n",
            "True\n",
            "True\n",
            "True\n",
            "True\n",
            "True\n"
          ]
        }
      ]
    },
    {
      "cell_type": "markdown",
      "source": [
        " Publisth the notebook in as **pperezp_groupN_CubicEquation.ipynb** at **MetNumUN2023II/Lab5** and submit only the code of **solve_cubic(b, c,d)** in UNcode Quiz Cubic Equation."
      ],
      "metadata": {
        "id": "0s01RrfqmE_f"
      }
    },
    {
      "cell_type": "markdown",
      "source": [
        "### Borradores"
      ],
      "metadata": {
        "id": "ZZB3d7RX4n4y"
      }
    },
    {
      "cell_type": "code",
      "execution_count": null,
      "metadata": {
        "id": "o99NfjpaiThf",
        "colab": {
          "base_uri": "https://localhost:8080/"
        },
        "outputId": "8ecfb0ad-89bd-4ce7-bda4-c9e2f8aae49c"
      },
      "outputs": [
        {
          "output_type": "stream",
          "name": "stdout",
          "text": [
            "0.5925925925925926\n",
            "((1.3660254037844386+0.21132486540518727j), (-0.33333333333333326+0.5773502691896255j), (-0.6993587371177721-0.7886751345948129j))\n"
          ]
        }
      ],
      "source": [
        "def not_solve_cubic(b, c, d):\n",
        "    \"\"\"Solve a cubic equation, x^3 + bx^2 + cx + d = 0.\n",
        "\n",
        "    Parameters\n",
        "    ----------\n",
        "    b, c, d : float\n",
        "       Coefficients\n",
        "\n",
        "    Returns\n",
        "    -------\n",
        "    x1, x2, x3 : float or complex\n",
        "       Roots.\n",
        "    \"\"\"\n",
        "\n",
        "    p = c - ((b ** 2) / 3.0)\n",
        "    q = (2.0 * (b ** 3) / 27.0) - (b * c / 3.0) + d\n",
        "    Δ = (q ** 2)  + (4 *(p ** 3)) / 27.0\n",
        "    print(Δ)\n",
        "\n",
        "    if Δ > 0:\n",
        "        # One real root, two complex roots\n",
        "        root_term1 = (-q  + math.sqrt(Δ)) / 2\n",
        "        root_term2 = (-q  - math.sqrt(Δ)) / 2\n",
        "        x1 = root_term1 ** (1.0 / 3.0) + root_term2 ** (1.0 / 3.0) - b / 3.0\n",
        "        x2 = complex(-0.5 * (root_term1 ** (1.0 / 3.0) + root_term2 ** (1.0 / 3.0)), (math.sqrt(3) / 2) * (root_term1 ** (1.0 / 3.0) - root_term2 ** (1.0 / 3.0)))\n",
        "        x3 = complex(-0.5 * (root_term1 ** (1.0 / 3.0) + root_term2 ** (1.0 / 3.0)), -(math.sqrt(3) / 2) * (root_term1 ** (1.0 / 3.0) - root_term2 ** (1.0 / 3.0)))\n",
        "\n",
        "    elif Δ == 0:\n",
        "        # Three real roots, two of them are equal\n",
        "        root_term = -q / 2.0\n",
        "        x1 = 2 * (root_term ** (1.0 / 3.0)) - b / 3.0\n",
        "        x2 = -(root_term ** (1.0 / 3.0)) - b / 3.0\n",
        "        x3 = -(root_term ** (1.0 / 3.0)) - b / 3.0\n",
        "    else:\n",
        "        # Three real roots\n",
        "        root_term1 = (-q / 2.0 + math.sqrt(Δ)) ** (1.0 / 3.0)\n",
        "        root_term2 = (-q / 2.0 - math.sqrt(Δ)) ** (1.0 / 3.0)\n",
        "\n",
        "        x1 = root_term1 + root_term2 - b / 3.0\n",
        "        x2 = complex(-(root_term1 + root_term2) / 2.0, (root_term1 - root_term2) * (math.sqrt(3) / 2.0) - b / 3.0)\n",
        "        x3 = complex(-(root_term1 + root_term2) / 2.0, -(root_term1 - root_term2) * (math.sqrt(3) / 2.0) - b / 3.0)\n",
        "\n",
        "        # Three real roots using De Moivre's formula\n",
        "        # r = math.sqrt((-p) ** 3)\n",
        "        # θ = math.acos(-q / (2.0 * r))\n",
        "        # x1 = 2.0 * math.pow(r, 1/3) * math.cos(θ/3) - b / 3.0\n",
        "        # x2 = 2.0 * math.pow(r, 1/3) * math.cos((θ + 2.0 * math.pi) / 3) - b / 3.0\n",
        "        # x3 = 2.0 * math.pow(r, 1/3) * math.cos((θ + 4.0 * math.pi) / 3) - b / 3.0\n",
        "\n",
        "    return x1, x2, x3\n",
        "\n",
        "#No entiendo porque sale false ayuda\n",
        "print(solve_cubic(-1.0,1.0,-1.0))\n"
      ]
    }
  ]
}